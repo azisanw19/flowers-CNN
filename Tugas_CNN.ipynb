{
  "nbformat": 4,
  "nbformat_minor": 0,
  "metadata": {
    "accelerator": "GPU",
    "colab": {
      "name": "Tugas CNN.ipynb",
      "provenance": [],
      "collapsed_sections": []
    },
    "kernelspec": {
      "display_name": "Python 3",
      "name": "python3"
    },
    "language_info": {
      "name": "python"
    }
  },
  "cells": [
    {
      "cell_type": "code",
      "metadata": {
        "colab": {
          "base_uri": "https://localhost:8080/"
        },
        "id": "KL5wDy35aoh9",
        "outputId": "b2d974ba-8e61-49ac-bea4-c6e0814cbc5c"
      },
      "source": [
        "from google.colab import drive\n",
        "drive.mount('/content/drive')"
      ],
      "execution_count": null,
      "outputs": [
        {
          "output_type": "stream",
          "text": [
            "Drive already mounted at /content/drive; to attempt to forcibly remount, call drive.mount(\"/content/drive\", force_remount=True).\n"
          ],
          "name": "stdout"
        }
      ]
    },
    {
      "cell_type": "markdown",
      "metadata": {
        "id": "giX-1EBXUo-N"
      },
      "source": [
        "0. Import Library"
      ]
    },
    {
      "cell_type": "code",
      "metadata": {
        "id": "bfGzhTBaUsfq"
      },
      "source": [
        "import tensorflow as tf\n",
        "from tensorflow.keras.preprocessing.image import ImageDataGenerator"
      ],
      "execution_count": null,
      "outputs": []
    },
    {
      "cell_type": "markdown",
      "metadata": {
        "id": "Mlo9vNhnSqzb"
      },
      "source": [
        "#1. Mengambil data dari Shared drive"
      ]
    },
    {
      "cell_type": "code",
      "metadata": {
        "id": "hwxccaU2R_US"
      },
      "source": [
        "# Folder directory\n",
        "base_dir = '/content/drive/Shareddrives/Machine Learning/flowers'"
      ],
      "execution_count": null,
      "outputs": []
    },
    {
      "cell_type": "markdown",
      "metadata": {
        "id": "AeYOASPfoXKB"
      },
      "source": [
        "##Splitting data ke Training dan Validation Directory\n",
        "Cukup dieksekusi sekali, tidak perlu dieksekusi kalo folder training dan validation sudah ada di shared drive"
      ]
    },
    {
      "cell_type": "markdown",
      "metadata": {
        "id": "R66aI7-_wBfM"
      },
      "source": [
        "###Membuat Directory dan sub direktori\n"
      ]
    },
    {
      "cell_type": "code",
      "metadata": {
        "id": "zWaxiKm-v-TY"
      },
      "source": [
        "import shutil\n",
        "import os\n",
        "\n",
        "# Dir name\n",
        "training_dir=os.path.join(base_dir,\"training/\")\n",
        "validation_dir=os.path.join(base_dir,\"validation/\")     \n",
        "\n",
        "dandelion_src=os.path.join(base_dir,\"dandelion/\")\n",
        "rose_src=os.path.join(base_dir,\"rose/\")\n",
        "sunflower_src=dandelion=os.path.join(base_dir,\"sunflower/\")\n",
        "\n",
        "train_dandelion=os.path.join(training_dir,\"dandelion/\")\n",
        "train_rose=os.path.join(training_dir,\"rose/\")\n",
        "train_sunflower=os.path.join(training_dir,\"sunflower/\")\n",
        "\n",
        "validation_dandelion=os.path.join(validation_dir,\"dandelion/\")\n",
        "validation_rose=os.path.join(validation_dir,\"rose/\")\n",
        "validation_sunflower=os.path.join(validation_dir,\"sunflower/\")\n",
        "\n",
        "# Make Directory\n",
        "try:\n",
        "  #Run this to delete training and validation dir\n",
        "  shutil.rmtree(training_dir)\n",
        "  shutil.rmtree(validation_dir)\n",
        "\n",
        "  #Root directory\n",
        "  os.mkdir(training_dir)\n",
        "  os.mkdir(validation_dir)\n",
        "\n",
        "  #Training Subdir\n",
        "  os.mkdir(train_dandelion)\n",
        "  os.mkdir(train_rose)\n",
        "  os.mkdir(train_sunflower)\n",
        "\n",
        "  #Validation subdir\n",
        "  os.mkdir(validation_dandelion)\n",
        "  os.mkdir(validation_rose)\n",
        "  os.mkdir(validation_sunflower)\n",
        "except OSError:\n",
        "    pass  "
      ],
      "execution_count": null,
      "outputs": []
    },
    {
      "cell_type": "markdown",
      "metadata": {
        "id": "Z2GNWzG5wFHd"
      },
      "source": [
        "###Split data ke direktori train dan validation dengan subfolder untuk masing-masing jenis bunga"
      ]
    },
    {
      "cell_type": "code",
      "metadata": {
        "id": "vkR8SpGxofMB",
        "colab": {
          "base_uri": "https://localhost:8080/"
        },
        "outputId": "752c14d2-10b5-45e4-bbe1-e8e7f079f296"
      },
      "source": [
        "import random\n",
        "\n",
        "def split_data(SOURCE,TRAINING_DIR,VALIDATION_DIR,SPLIT_SIZE):\n",
        "    data = os.listdir(SOURCE)\n",
        "    #random data sample\n",
        "    sample=random.sample(data, 5)\n",
        "    print(sample)\n",
        "\n",
        "    index_to_split=len(data)*SPLIT_SIZE\n",
        "    #print(index_to_split)\n",
        "    training_data = data[:int(index_to_split)]\n",
        "    testing_data=data[int(index_to_split):]\n",
        "    \n",
        "    for image in training_data:\n",
        "        #if os.path.getsize(\"{}{}\".format(SOURCE,image))!=0:\n",
        "        shutil.copyfile(\"{}{}\".format(SOURCE,image), \"{}{}\".format(TRAINING_DIR,image))\n",
        "        \n",
        "    for image in testing_data:\n",
        "        #if os.path.getsize(\"{}{}\".format(SOURCE,image))!=0:\n",
        "        shutil.copyfile(\"{}{}\".format(SOURCE,image), \"{}{}\".format(VALIDATION_DIR,image)) \n",
        "    \n",
        "   \n",
        "#Split data and copy to subdir\n",
        "split_size = .8\n",
        "split_data(dandelion_src,train_dandelion,validation_dandelion,split_size)\n",
        "split_data(rose_src,train_rose,validation_rose,split_size)\n",
        "split_data(sunflower_src,train_sunflower,validation_sunflower,split_size)\n",
        "\n"
      ],
      "execution_count": null,
      "outputs": [
        {
          "output_type": "stream",
          "text": [
            "['4588529727_4a79c61577.jpg', '3496258301_ca5f168306.jpg', '10437652486_aa86c14985.jpg', '1080179756_5f05350a59.jpg', '3419176626_512811d3ff.jpg']\n",
            "['8723767157_c45bfd3ab6.jpg', '6363976189_e7155e5f9c.jpg', '5570018782_c56bee942f.jpg', '3065719996_c16ecd5551.jpg', '4754734410_94d98463a5.jpg']\n",
            "['3568114325_d6b1363497.jpg', '6606746467_a668c8d417.jpg', '9655029591_7a77f87500.jpg', '4019748730_ee09b39a43.jpg', '8174935013_b16626b49b.jpg']\n"
          ],
          "name": "stdout"
        }
      ]
    },
    {
      "cell_type": "code",
      "metadata": {
        "id": "X5EpQYL_ywg3",
        "colab": {
          "base_uri": "https://localhost:8080/"
        },
        "outputId": "a3b2902d-a953-40b1-91d1-f8da57a64b5a"
      },
      "source": [
        "print(len(os.listdir(train_dandelion)))\n",
        "print(len(os.listdir(train_rose)))\n",
        "print(len(os.listdir(train_sunflower)))\n",
        "\n",
        "print(len(os.listdir(validation_dandelion)))\n",
        "print(len(os.listdir(validation_rose)))\n",
        "print(len(os.listdir(validation_sunflower)))"
      ],
      "execution_count": null,
      "outputs": [
        {
          "output_type": "stream",
          "text": [
            "80\n",
            "80\n",
            "80\n",
            "20\n",
            "20\n",
            "20\n"
          ],
          "name": "stdout"
        }
      ]
    },
    {
      "cell_type": "code",
      "metadata": {
        "id": "SNCRxbXicCWD"
      },
      "source": [
        "training_dir=os.path.join(base_dir,\"training\")\n",
        "validation_dir=os.path.join(base_dir,\"validation\")"
      ],
      "execution_count": null,
      "outputs": []
    },
    {
      "cell_type": "markdown",
      "metadata": {
        "id": "0iLROdxySxPV"
      },
      "source": [
        "#2. Image data Generator dengan Image Augmentation"
      ]
    },
    {
      "cell_type": "code",
      "metadata": {
        "id": "BJn5Ho6STz4F"
      },
      "source": [
        "train_datagen = ImageDataGenerator(\n",
        "                    rescale=1./255, # Normalisasi nilai input\n",
        "                    horizontal_flip=True, # Melakukan flip horizontal untuk menambah data\n",
        "                    height_shift_range=0.2, # Melakukan shift untuk menambah data\n",
        "                    vertical_flip=True # Melakukan vertical flip untuk menambah data\n",
        "                    )\n",
        "\n",
        "validation_datagen = ImageDataGenerator(rescale=1/255)"
      ],
      "execution_count": null,
      "outputs": []
    },
    {
      "cell_type": "markdown",
      "metadata": {
        "id": "nMrXLQk8T0WB"
      },
      "source": [
        "#3. Train dan Validation Generator"
      ]
    },
    {
      "cell_type": "code",
      "metadata": {
        "id": "5gJF5k3PULZD",
        "colab": {
          "base_uri": "https://localhost:8080/"
        },
        "outputId": "cc9231a3-7b25-4464-a7ac-7d77385cb5aa"
      },
      "source": [
        "train_generator = train_datagen.flow_from_directory(\n",
        "    training_dir, # direktori data\n",
        "    target_size=(320, 240),  # mengubah resolusi gambar\n",
        "    class_mode='categorical' # klasifikasi multi class\n",
        ")\n",
        "\n",
        "validation_generator = validation_datagen.flow_from_directory(\n",
        "    validation_dir, # Direktori data\n",
        "    target_size=(320, 240), # mengubah resolusi gambar\n",
        "    class_mode='categorical' # klasifikasi multi class\n",
        ")"
      ],
      "execution_count": null,
      "outputs": [
        {
          "output_type": "stream",
          "text": [
            "Found 240 images belonging to 3 classes.\n",
            "Found 60 images belonging to 3 classes.\n"
          ],
          "name": "stdout"
        }
      ]
    },
    {
      "cell_type": "markdown",
      "metadata": {
        "id": "BOOcVhIHULik"
      },
      "source": [
        "#4. Model CNN"
      ]
    },
    {
      "cell_type": "code",
      "metadata": {
        "id": "H9X1Ss49UT-M",
        "colab": {
          "base_uri": "https://localhost:8080/"
        },
        "outputId": "b524ef35-6595-47ae-bd0d-4752f49a7b1a"
      },
      "source": [
        "model = tf.keras.models.Sequential() # Parameter\n",
        "\n",
        "#Convo 1\n",
        "model.add(tf.keras.layers.Conv2D(16, (3,3), activation=\"relu\", input_shape = (320, 240, 3)))\n",
        "model.add(tf.keras.layers.MaxPooling2D((2, 2)))\n",
        "#Convo 2\n",
        "model.add(tf.keras.layers.Conv2D(32, (3, 3), activation='relu'))\n",
        "model.add(tf.keras.layers.MaxPooling2D((2, 2)))\n",
        "#Convo 3\n",
        "model.add(tf.keras.layers.Conv2D(64, (3, 3), activation='relu'))\n",
        "model.add(tf.keras.layers.MaxPooling2D((2,2)))\n",
        "#Convo 4\n",
        "model.add(tf.keras.layers.Conv2D(64, (3, 3), activation='relu'))\n",
        "model.add(tf.keras.layers.MaxPooling2D((2,2)))\n",
        "\n",
        "model.add(tf.keras.layers.Flatten())\n",
        "model.add(tf.keras.layers.Dense(3, activation='softmax'))\n",
        "\n",
        "\n",
        "model.summary()"
      ],
      "execution_count": null,
      "outputs": [
        {
          "output_type": "stream",
          "text": [
            "Model: \"sequential_9\"\n",
            "_________________________________________________________________\n",
            "Layer (type)                 Output Shape              Param #   \n",
            "=================================================================\n",
            "conv2d_36 (Conv2D)           (None, 318, 238, 16)      448       \n",
            "_________________________________________________________________\n",
            "max_pooling2d_36 (MaxPooling (None, 159, 119, 16)      0         \n",
            "_________________________________________________________________\n",
            "conv2d_37 (Conv2D)           (None, 157, 117, 32)      4640      \n",
            "_________________________________________________________________\n",
            "max_pooling2d_37 (MaxPooling (None, 78, 58, 32)        0         \n",
            "_________________________________________________________________\n",
            "conv2d_38 (Conv2D)           (None, 76, 56, 64)        18496     \n",
            "_________________________________________________________________\n",
            "max_pooling2d_38 (MaxPooling (None, 38, 28, 64)        0         \n",
            "_________________________________________________________________\n",
            "conv2d_39 (Conv2D)           (None, 36, 26, 64)        36928     \n",
            "_________________________________________________________________\n",
            "max_pooling2d_39 (MaxPooling (None, 18, 13, 64)        0         \n",
            "_________________________________________________________________\n",
            "flatten_9 (Flatten)          (None, 14976)             0         \n",
            "_________________________________________________________________\n",
            "dense_34 (Dense)             (None, 3)                 44931     \n",
            "=================================================================\n",
            "Total params: 105,443\n",
            "Trainable params: 105,443\n",
            "Non-trainable params: 0\n",
            "_________________________________________________________________\n"
          ],
          "name": "stdout"
        }
      ]
    },
    {
      "cell_type": "markdown",
      "metadata": {
        "id": "E9gPuMDgUUKD"
      },
      "source": [
        "5. model compile CNN"
      ]
    },
    {
      "cell_type": "code",
      "metadata": {
        "id": "Q9qyDllOUczb"
      },
      "source": [
        "model.compile(optimizer=\"adam\",\n",
        "              loss='categorical_crossentropy', # one hot encoding\n",
        "              metrics=['accuracy'])"
      ],
      "execution_count": null,
      "outputs": []
    },
    {
      "cell_type": "markdown",
      "metadata": {
        "id": "Tq5TK8AMUc99"
      },
      "source": [
        "##6. Training "
      ]
    },
    {
      "cell_type": "code",
      "metadata": {
        "id": "OpOzziWCUgby",
        "colab": {
          "base_uri": "https://localhost:8080/"
        },
        "outputId": "6b51670d-ae22-4a81-9c2d-e484bd78f679"
      },
      "source": [
        "EPOCHS = 20\n",
        "\n",
        "history = model.fit(\n",
        "    train_generator,\n",
        "    epochs=EPOCHS,\n",
        "    validation_data=validation_generator,\n",
        "    verbose=1\n",
        ")"
      ],
      "execution_count": null,
      "outputs": [
        {
          "output_type": "stream",
          "text": [
            "Epoch 1/20\n",
            "8/8 [==============================] - 6s 694ms/step - loss: 1.1003 - accuracy: 0.3625 - val_loss: 0.9984 - val_accuracy: 0.4667\n",
            "Epoch 2/20\n",
            "8/8 [==============================] - 5s 602ms/step - loss: 0.9142 - accuracy: 0.5750 - val_loss: 0.7842 - val_accuracy: 0.5833\n",
            "Epoch 3/20\n",
            "8/8 [==============================] - 5s 598ms/step - loss: 0.7550 - accuracy: 0.6125 - val_loss: 0.7948 - val_accuracy: 0.5500\n",
            "Epoch 4/20\n",
            "8/8 [==============================] - 5s 598ms/step - loss: 0.6993 - accuracy: 0.6750 - val_loss: 0.7448 - val_accuracy: 0.7000\n",
            "Epoch 5/20\n",
            "8/8 [==============================] - 5s 592ms/step - loss: 0.6036 - accuracy: 0.7167 - val_loss: 0.8345 - val_accuracy: 0.6167\n",
            "Epoch 6/20\n",
            "8/8 [==============================] - 5s 600ms/step - loss: 0.7012 - accuracy: 0.6875 - val_loss: 0.7948 - val_accuracy: 0.6167\n",
            "Epoch 7/20\n",
            "8/8 [==============================] - 5s 603ms/step - loss: 0.6066 - accuracy: 0.7417 - val_loss: 0.7751 - val_accuracy: 0.7167\n",
            "Epoch 8/20\n",
            "8/8 [==============================] - 5s 604ms/step - loss: 0.5634 - accuracy: 0.7375 - val_loss: 0.8206 - val_accuracy: 0.6500\n",
            "Epoch 9/20\n",
            "8/8 [==============================] - 5s 597ms/step - loss: 0.5420 - accuracy: 0.7750 - val_loss: 0.8800 - val_accuracy: 0.6500\n",
            "Epoch 10/20\n",
            "8/8 [==============================] - 5s 603ms/step - loss: 0.5294 - accuracy: 0.8083 - val_loss: 0.7374 - val_accuracy: 0.6833\n",
            "Epoch 11/20\n",
            "8/8 [==============================] - 5s 600ms/step - loss: 0.5035 - accuracy: 0.8042 - val_loss: 0.8167 - val_accuracy: 0.6667\n",
            "Epoch 12/20\n",
            "8/8 [==============================] - 5s 599ms/step - loss: 0.5369 - accuracy: 0.7833 - val_loss: 0.8012 - val_accuracy: 0.7000\n",
            "Epoch 13/20\n",
            "8/8 [==============================] - 5s 601ms/step - loss: 0.4752 - accuracy: 0.8250 - val_loss: 0.7342 - val_accuracy: 0.7000\n",
            "Epoch 14/20\n",
            "8/8 [==============================] - 5s 605ms/step - loss: 0.4506 - accuracy: 0.8208 - val_loss: 0.8237 - val_accuracy: 0.7167\n",
            "Epoch 15/20\n",
            "8/8 [==============================] - 5s 639ms/step - loss: 0.4714 - accuracy: 0.8292 - val_loss: 0.8750 - val_accuracy: 0.6833\n",
            "Epoch 16/20\n",
            "8/8 [==============================] - 5s 597ms/step - loss: 0.4185 - accuracy: 0.8333 - val_loss: 0.7220 - val_accuracy: 0.6667\n",
            "Epoch 17/20\n",
            "8/8 [==============================] - 5s 637ms/step - loss: 0.4123 - accuracy: 0.8292 - val_loss: 0.7622 - val_accuracy: 0.7167\n",
            "Epoch 18/20\n",
            "8/8 [==============================] - 5s 593ms/step - loss: 0.4094 - accuracy: 0.8417 - val_loss: 0.7820 - val_accuracy: 0.7167\n",
            "Epoch 19/20\n",
            "8/8 [==============================] - 5s 596ms/step - loss: 0.4306 - accuracy: 0.8417 - val_loss: 0.8221 - val_accuracy: 0.6833\n",
            "Epoch 20/20\n",
            "8/8 [==============================] - 5s 643ms/step - loss: 0.4364 - accuracy: 0.8167 - val_loss: 0.8185 - val_accuracy: 0.7333\n"
          ],
          "name": "stdout"
        }
      ]
    },
    {
      "cell_type": "markdown",
      "metadata": {
        "id": "cv4ie1P-Ug04"
      },
      "source": [
        "#7. Plot Graph model"
      ]
    },
    {
      "cell_type": "code",
      "metadata": {
        "id": "SU6NNfUvUmrQ",
        "colab": {
          "base_uri": "https://localhost:8080/",
          "height": 579
        },
        "outputId": "c88ceec5-a66d-4ca2-8045-e83fc8e4f4ab"
      },
      "source": [
        "import matplotlib.pyplot as plt\n",
        "\n",
        "def plot_graph(n_epochs, string, history):\n",
        "  epochs = range(n_epochs)\n",
        "  plt.plot(epochs, history.history[string], 'r', label='Training')\n",
        "  plt.plot(epochs, history.history['val_'+string], 'b', label='Validation')\n",
        "  plt.title(string)\n",
        "  plt.legend(loc=0)\n",
        "  plt.figure()\n",
        "  plt.show()\n",
        "\n",
        "plot_graph(EPOCHS, 'accuracy', history)\n",
        "plot_graph(EPOCHS, 'loss', history)"
      ],
      "execution_count": null,
      "outputs": [
        {
          "output_type": "display_data",
          "data": {
            "image/png": "[encoded data removed]",
            "text/plain": [
              "<Figure size 432x288 with 1 Axes>"
            ]
          },
          "metadata": {
            "tags": [],
            "needs_background": "light"
          }
        },
        {
          "output_type": "display_data",
          "data": {
            "text/plain": [
              "<Figure size 432x288 with 0 Axes>"
            ]
          },
          "metadata": {
            "tags": []
          }
        },
        {
          "output_type": "display_data",
          "data": {
            "image/png": "[encoded data removed]",
            "text/plain": [
              "<Figure size 432x288 with 1 Axes>"
            ]
          },
          "metadata": {
            "tags": [],
            "needs_background": "light"
          }
        },
        {
          "output_type": "display_data",
          "data": {
            "text/plain": [
              "<Figure size 432x288 with 0 Axes>"
            ]
          },
          "metadata": {
            "tags": []
          }
        }
      ]
    }
  ]
}